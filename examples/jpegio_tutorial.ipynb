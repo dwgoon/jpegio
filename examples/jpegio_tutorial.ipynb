{
 "cells": [
  {
   "cell_type": "markdown",
   "metadata": {},
   "source": [
    "# jpegio 사용법\n",
    "### (Last updated 2019.03.19)\n",
    "##### *오류를 발견하시거나, 필요하신 기능이 있는 경우 언제든지 알려주십시오 (leedaewon@nsr.re.kr, daewon4you@gmail.com)*\n",
    "\n",
    "\n",
    "\n",
    "- `jpegio`는 C언어로 구현된 [libjpeg](https://www.ijg.org)의 일부 JPEG 입출력 기능을 파이썬 모듈로 만들어(i.e., wrapping) API로 제공하는 파이썬 패키지이다.\n",
    "- 그리스 ITI-CERTH 연구소 [MKLab](https://mklab.iti.gr)에서 제공하는 [image-forensics](https://github.com/MKLab-ITI/image-forensics) 소스코드를 참고하였다.\n",
    "- Uber research에서도 [비슷한 코드](https://github.com/uber-research/jpeg2dct)를 제공한다.\n",
    "- C코드로부터 파이썬 모듈을 생성하기 위해 [Cython](https://cython.org/)을 활용하였다.\n",
    "- Microsoft Windows에서는 [libjpeg-turbo](https://libjpeg-turbo.org)를 이용한다.\n",
    "- UNIX 계열 운영체제에서는 `jpegio` 패키지 설치과정에서 `libjpeg`의 소스코드를 컴파일하는 과정을 포함한다.\n",
    "\n",
    "\n"
   ]
  },
  {
   "cell_type": "code",
   "execution_count": 1,
   "metadata": {},
   "outputs": [],
   "source": [
    "import jpegio as jio"
   ]
  },
  {
   "cell_type": "markdown",
   "metadata": {},
   "source": [
    "#### JPEG 이미지 읽어들이기\n",
    "- 기본적으로 압축이 해제된 JPEG 데이터는 `DecompressedJpeg` 개체를 통해 다루게 된다.\n",
    "- DCT 계수를 별도의 자료구조로 다루기 위해 다른 개체(e.g., `ZigzagDct1d`)를 이용할 수도 있다 (뒤에서 자세히 설명)."
   ]
  },
  {
   "cell_type": "code",
   "execution_count": 2,
   "metadata": {},
   "outputs": [
    {
     "data": {
      "text/plain": [
       "jpegio.decompressedjpeg.DecompressedJpeg"
      ]
     },
     "execution_count": 2,
     "metadata": {},
     "output_type": "execute_result"
    }
   ],
   "source": [
    "fpath = \"../tests/images/cherries01.jpg\"  # JPEG 파일 주소\n",
    "jpeg = jio.read(fpath)\n",
    "type(jpeg)"
   ]
  },
  {
   "cell_type": "markdown",
   "metadata": {},
   "source": [
    "#### 이미지 크기 확인"
   ]
  },
  {
   "cell_type": "code",
   "execution_count": 3,
   "metadata": {},
   "outputs": [
    {
     "data": {
      "text/plain": [
       "(756, 756)"
      ]
     },
     "execution_count": 3,
     "metadata": {},
     "output_type": "execute_result"
    }
   ],
   "source": [
    "jpeg.image_width, jpeg.image_width"
   ]
  },
  {
   "cell_type": "markdown",
   "metadata": {},
   "source": [
    "#### YCbCr 채널(channel) 개수 확인"
   ]
  },
  {
   "cell_type": "code",
   "execution_count": 4,
   "metadata": {},
   "outputs": [
    {
     "data": {
      "text/plain": [
       "3"
      ]
     },
     "execution_count": 4,
     "metadata": {},
     "output_type": "execute_result"
    }
   ],
   "source": [
    "jpeg.num_components"
   ]
  },
  {
   "cell_type": "markdown",
   "metadata": {},
   "source": [
    "#### DCT 계수(coefficients) 접근\n",
    "- 멤버 변수명은 `coef_arrays` 이며, 파이썬의 기본 리스트(list) 개체이다.\n",
    "- `coef_arrays` 리스트는 각 채널에 해당되는 DCT 계수 배열들을 담고 있다.\n",
    "- 각 DCT 계수 배열은 2차원 `numpy.ndarray` 개체이다.\n",
    "- DCT 계수 배열을 3차원 `numpy.ndarray`로 관리하지 않는 이유는 채널에 따라 DCT 계수 배열의 크기가 다를 수 있기 때문이다.\n",
    "- 채널에 따라 DCT 계수 배열의 크기가 다른 경우는, JPEG 압축 과정에서 CbCr 채널에 대해 down sampling이 적용된 경우이다."
   ]
  },
  {
   "cell_type": "code",
   "execution_count": 5,
   "metadata": {},
   "outputs": [
    {
     "data": {
      "text/plain": [
       "list"
      ]
     },
     "execution_count": 5,
     "metadata": {},
     "output_type": "execute_result"
    }
   ],
   "source": [
    "type(jpeg.coef_arrays)"
   ]
  },
  {
   "cell_type": "code",
   "execution_count": 6,
   "metadata": {},
   "outputs": [
    {
     "data": {
      "text/plain": [
       "numpy.ndarray"
      ]
     },
     "execution_count": 6,
     "metadata": {},
     "output_type": "execute_result"
    }
   ],
   "source": [
    "type(jpeg.coef_arrays[0])"
   ]
  },
  {
   "cell_type": "code",
   "execution_count": 7,
   "metadata": {},
   "outputs": [
    {
     "data": {
      "text/plain": [
       "3"
      ]
     },
     "execution_count": 7,
     "metadata": {},
     "output_type": "execute_result"
    }
   ],
   "source": [
    "len(jpeg.coef_arrays)  # 채널의 개수와 동일"
   ]
  },
  {
   "cell_type": "code",
   "execution_count": 8,
   "metadata": {},
   "outputs": [
    {
     "name": "stdout",
     "output_type": "stream",
     "text": [
      "2\n",
      "2\n",
      "2\n"
     ]
    }
   ],
   "source": [
    "print(jpeg.coef_arrays[0].ndim)  # 첫번째 DCT 계수 배열의 차원\n",
    "print(jpeg.coef_arrays[1].ndim)  # 두번째 DCT 계수 배열의 차원\n",
    "print(jpeg.coef_arrays[2].ndim)  # 세번째 DCT 계수 배열의 차원"
   ]
  },
  {
   "cell_type": "code",
   "execution_count": 9,
   "metadata": {},
   "outputs": [
    {
     "name": "stdout",
     "output_type": "stream",
     "text": [
      "[Channel #1] The 1st DCT coef. block\n",
      "[[-567   11  -47   -6    4    2    1    1]\n",
      " [ -81  -41   22   13   -5   -2   -2   -4]\n",
      " [  19   15   10  -12    3   -1    1    1]\n",
      " [   8   -7   -7   -4    3   -3    0   -2]\n",
      " [  -7   -5    6    3   -2   -2   -2   -2]\n",
      " [  10    0  -10   -5   -3    1   -1   -1]\n",
      " [  -2   -4   -1    2    2   -2   -2    1]\n",
      " [  -3    0    4   -3   -3    0   -1   -1]]\n",
      "[Channel #2] The 1st DCT coef. block\n",
      "[[-58   6   1   8   0   0   2   0]\n",
      " [ 11   5  -4   3   6  -3   1  -2]\n",
      " [  5  -7  -2   1  -2  -2  -2   0]\n",
      " [ -3  -3   5  -1  -3   1   2   2]\n",
      " [  3   0  -6  -2   2   1  -1   0]\n",
      " [  4  -1   2   1  -1  -3  -2  -1]\n",
      " [ -2   0   2   0   0  -1   0   0]\n",
      " [  2   0  -2  -1   1   2   1  -1]]\n",
      "[Channel #3] The 1st DCT coef. block\n",
      "[[-4 -4 -3 -2  0  1  2 -1]\n",
      " [-2 -2 -3  3  0  1 -2  0]\n",
      " [-9  9  2 -1  3 -1  0  0]\n",
      " [ 4  1 -2 -5 -2  0  0  0]\n",
      " [-3 -2 -2 -1  0 -1  1  0]\n",
      " [-2  1  1 -1  1  1  0  0]\n",
      " [ 1 -2 -1 -1  0  1  0 -1]\n",
      " [ 0 -2  0  0  0 -1  0  0]]\n"
     ]
    }
   ],
   "source": [
    "# 각 채널별 첫번째 DCT 계수 블록만 출력\n",
    "for i in range(jpeg.num_components):\n",
    "    coef = jpeg.coef_arrays[i]\n",
    "    print(\"[Channel #%d] The 1st DCT coef. block\" % (i + 1))\n",
    "    print(coef[:8, :8])"
   ]
  },
  {
   "cell_type": "code",
   "execution_count": 10,
   "metadata": {},
   "outputs": [
    {
     "name": "stdout",
     "output_type": "stream",
     "text": [
      "[Channel #1] Size of DCT coef. array: (504, 760)\n",
      "[Channel #2] Size of DCT coef. array: (256, 384)\n",
      "[Channel #3] Size of DCT coef. array: (256, 384)\n"
     ]
    }
   ],
   "source": [
    "# 각 채널별 첫번째 DCT 계수 배열의 크기 출력\n",
    "# (DCT 배열의 크기가 다른 것을 알 수 있다)\n",
    "for i in range(jpeg.num_components):\n",
    "    coef = jpeg.coef_arrays[i]\n",
    "    print(\"[Channel #%d] Size of DCT coef. array: %s\" % (i + 1, coef.shape))"
   ]
  },
  {
   "cell_type": "markdown",
   "metadata": {},
   "source": [
    "#### DCT 계수 `numpy.ndarray` 배열 모양 변형\n",
    "- DCT 계수 배열을 보다 효율적으로 사용하기 위해서는 배열 모양을 변형할 필요가 있다.\n",
    "- 예를 들어, 블록 단위로 처리하고자 하는 경우, 인덱스를 (블록 행, 블록 열, 8x8배열 행, 8x8배열 열)과 같이 사용하는 것이 더욱 용이하다.\n",
    "- `numpy.reshape`과 `numpy.transpose`를 적절히 사용한다.\n",
    "- `numpy.reshape`과 `numpy.transpose`는 내부 메모리 구조를 변경하지 않고 데이터를 바라보는 관점(view)만 바꾸기 때문에, 성능 문제를 크게 걱정하지 않아도 된다."
   ]
  },
  {
   "cell_type": "code",
   "execution_count": 11,
   "metadata": {},
   "outputs": [
    {
     "name": "stdout",
     "output_type": "stream",
     "text": [
      "63 95\n"
     ]
    }
   ],
   "source": [
    "# 8x8 블록 단위로 배열에 접근하고자 할 때,\n",
    "# 아래와 같이 배열 모양을 바꿀 수 있다.\n",
    "\n",
    "coef = jpeg.coef_arrays[0]  # 첫번째 채널 DCT 계수 배열\n",
    "nr_blk = coef.shape[0] // 8  # 8x8 블록 단위 행의 개수\n",
    "nc_blk = coef.shape[1] // 8  # 8x8 블록 단위 열의 개수\n",
    "print(nr_blk, nc_blk)"
   ]
  },
  {
   "cell_type": "code",
   "execution_count": 12,
   "metadata": {},
   "outputs": [
    {
     "name": "stdout",
     "output_type": "stream",
     "text": [
      "(63, 8, 95, 8)\n"
     ]
    }
   ],
   "source": [
    "# 8개 단위로 블록 열개수(nc_blk)만큼 자르고,\n",
    "# 다시 블록 열을 8개씩 블록 행개수(nr_blk) 만큼 자른다.\n",
    "\n",
    "coef_blk = coef.reshape(nr_blk, 8, nc_blk, 8)\n",
    "print(coef_blk.shape)"
   ]
  },
  {
   "cell_type": "code",
   "execution_count": 13,
   "metadata": {},
   "outputs": [
    {
     "name": "stdout",
     "output_type": "stream",
     "text": [
      "(63, 95, 8, 8)\n"
     ]
    }
   ],
   "source": [
    "# 인덱싱을 사용하기 편하도록 배열의 축(axis) 위치를 바꾼다.\n",
    "# 데이터가 내부적으로 어떻게 저장되는지 고려할 필요 없이,\n",
    "# 인덱싱만 원하는 대로 된다고 생각하면 된다 (어차피 내부 데이터 메모리는 1차원 배열).\n",
    "\n",
    "coef_blk = coef_blk.transpose(0, 2, 1, 3)\n",
    "print(coef_blk.shape)"
   ]
  },
  {
   "cell_type": "code",
   "execution_count": 14,
   "metadata": {},
   "outputs": [
    {
     "data": {
      "text/plain": [
       "array([[-644,   -6,    3,  -11,    2,   -2,    7,   -1],\n",
       "       [ -26,  -27,   28,    5,   -5,    0,   -4,    0],\n",
       "       [  -4,   -6,    7,   15,   -1,   -2,   -4,    3],\n",
       "       [   2,   17,  -17,    0,   -1,    1,    1,    0],\n",
       "       [   0,   -8,    5,    0,    4,   -2,   -2,    1],\n",
       "       [  -5,   -8,    6,    4,   -1,    0,   -3,   -2],\n",
       "       [   1,    2,   -3,   -2,   -1,    0,    3,    0],\n",
       "       [   2,    1,    4,   -1,    0,   -2,   -1,   -1]], dtype=int16)"
      ]
     },
     "execution_count": 14,
     "metadata": {},
     "output_type": "execute_result"
    }
   ],
   "source": [
    "# 3행2열에 있는 DCT 계수 블록\n",
    "coef_blk[3, 2, :, :]"
   ]
  },
  {
   "cell_type": "code",
   "execution_count": 15,
   "metadata": {},
   "outputs": [
    {
     "data": {
      "text/plain": [
       "array([[-674,    0,  -51,   -3,   16,   -3,    0,   -3],\n",
       "       [ -61,   15,  -58,   14,   15,   10,   -4,    2],\n",
       "       [  -4,  -11,  -13,    2,   15,    4,    3,    1],\n",
       "       [   8,   -2,  -13,   -3,    5,   -2,   -2,    1],\n",
       "       [   2,    2,   -2,   -7,    3,   -5,   -2,    0],\n",
       "       [ -16,    6,    8,    1,   -7,   -5,    3,    0],\n",
       "       [  -2,   -1,    8,    1,   -9,   -4,    0,    1],\n",
       "       [   4,    0,   -5,   -3,    5,   -1,    5,    0]], dtype=int16)"
      ]
     },
     "execution_count": 15,
     "metadata": {},
     "output_type": "execute_result"
    }
   ],
   "source": [
    "# 10행10열에 있는 DCT 계수 블록\n",
    "coef_blk[10, 10, :, :]"
   ]
  },
  {
   "cell_type": "code",
   "execution_count": 16,
   "metadata": {},
   "outputs": [
    {
     "data": {
      "text/plain": [
       "array([[-680,  -29,    7,   -8,   -2,   -3,   -1,    4],\n",
       "       [ -19,  -28,    6,   12,   -4,    3,    0,    2],\n",
       "       [  -5,  -14,    0,    9,    1,   -2,   -1,    1],\n",
       "       [   0,    8,    6,   -5,   -1,   -4,    0,    4],\n",
       "       [  -2,   -6,    1,    3,   -5,    0,    0,   -2],\n",
       "       [  -8,   -5,    0,    5,    6,   -3,    2,    0],\n",
       "       [   1,   -1,    0,    1,   -1,    0,    1,    2],\n",
       "       [   0,    3,    1,   -3,   -3,   -1,    0,    0]], dtype=int16)"
      ]
     },
     "execution_count": 16,
     "metadata": {},
     "output_type": "execute_result"
    }
   ],
   "source": [
    "# 아래와 같이 블록 인덱스만 넣어줘도 된다.\n",
    "coef_blk[3, 4]"
   ]
  },
  {
   "cell_type": "markdown",
   "metadata": {},
   "source": [
    "#### 채널별 정보 확인\n",
    "- JPEG 채널별 정보를 확인하기 위해서는 `DecompressedJpeg`의 `comp_info`를 멤버 변수를 이용한다.\n",
    "- Downsampling에 관련된 각종 정보를 담고 있어, 특히 CbCr채널에 downsampling이 적용된 JPEG을 다룰 때 크기 정보를 확인하기 좋다.\n",
    "- 예를 들어,`ComponentInfo` 개체의 `v_samp_factor` 및 `h_samp_factor`는 YCbCr의 각 채널별 downsampling 비율이다. 단순히 downsampling 된 후의 이미지 크기가 필요하다면 `ComponentInfo` 개체의 `downsampled_width`와 `downsampled_height`를 이용하면 된다."
   ]
  },
  {
   "cell_type": "code",
   "execution_count": 17,
   "metadata": {},
   "outputs": [
    {
     "data": {
      "text/plain": [
       "list"
      ]
     },
     "execution_count": 17,
     "metadata": {},
     "output_type": "execute_result"
    }
   ],
   "source": [
    "# comp_info는 리스트 개체이며, 각 채널별에 대응되는 ComponentInfo 개체를 담고 있다.\n",
    "# \"component\"가 \"channel\"에 대응된다고 보면 된다.\n",
    "\n",
    "type(jpeg.comp_info)"
   ]
  },
  {
   "cell_type": "code",
   "execution_count": 18,
   "metadata": {},
   "outputs": [
    {
     "data": {
      "text/plain": [
       "jpegio.componentinfo.ComponentInfo"
      ]
     },
     "execution_count": 18,
     "metadata": {},
     "output_type": "execute_result"
    }
   ],
   "source": [
    "type(jpeg.comp_info[0])  # ComponentInfo 개체"
   ]
  },
  {
   "cell_type": "code",
   "execution_count": 19,
   "metadata": {},
   "outputs": [
    {
     "data": {
      "text/plain": [
       "<jpegio.componentinfo.ComponentInfo at 0x1aa7003bca8>"
      ]
     },
     "execution_count": 19,
     "metadata": {},
     "output_type": "execute_result"
    }
   ],
   "source": [
    "jpeg.comp_info[0]  # 첫번째 채널의 ComponentInfo"
   ]
  },
  {
   "cell_type": "code",
   "execution_count": 20,
   "metadata": {},
   "outputs": [
    {
     "name": "stdout",
     "output_type": "stream",
     "text": [
      "[Component #1]\n",
      "Quantization table number: 0\n",
      "DC table number: 0\n",
      "AC table number: 0\n",
      "Width after downsampling: 756\n",
      "Height after downsampling: 504\n",
      "Width in blocks: 95\n",
      "Height in blocks: 63\n",
      "Vertical sampling factor: 2\n",
      "Horizontal sampling factor: 2\n",
      "\n",
      "[Component #2]\n",
      "Quantization table number: 1\n",
      "DC table number: 1\n",
      "AC table number: 1\n",
      "Width after downsampling: 378\n",
      "Height after downsampling: 252\n",
      "Width in blocks: 48\n",
      "Height in blocks: 32\n",
      "Vertical sampling factor: 1\n",
      "Horizontal sampling factor: 1\n",
      "\n",
      "[Component #3]\n",
      "Quantization table number: 1\n",
      "DC table number: 1\n",
      "AC table number: 1\n",
      "Width after downsampling: 378\n",
      "Height after downsampling: 252\n",
      "Width in blocks: 48\n",
      "Height in blocks: 32\n",
      "Vertical sampling factor: 1\n",
      "Horizontal sampling factor: 1\n",
      "\n"
     ]
    }
   ],
   "source": [
    "for ci in jpeg.comp_info:\n",
    "    print(\"[Component #%d]\" % (ci.component_id))\n",
    "    print(\"Quantization table number:\", ci.quant_tbl_no)\n",
    "    print(\"DC table number:\", ci.dc_tbl_no)\n",
    "    print(\"AC table number:\", ci.ac_tbl_no)\n",
    "    print(\"Width after downsampling:\", ci.downsampled_width)  # 다운샘플링 후 이미지 가로 크기\n",
    "    print(\"Height after downsampling:\", ci.downsampled_height)  # 다운샘플링 후 이미지 세로 크기\n",
    "    print(\"Width in blocks:\", ci.width_in_blocks)  # 블록 행개수\n",
    "    print(\"Height in blocks:\", ci.height_in_blocks)  # 블록 열개수\n",
    "    print(\"Vertical sampling factor:\", ci.h_samp_factor)  # 행 샘플링 팩터\n",
    "    print(\"Horizontal sampling factor:\", ci.v_samp_factor)  # 열 샘플링 팩터\n",
    "    print()"
   ]
  },
  {
   "cell_type": "markdown",
   "metadata": {},
   "source": [
    "#### 0이 아닌 DCT AC 계수(non-zero DCT AC coefficient)의 개수  \n",
    "- 8x8 DCT 계수 블록에서, 가장 첫번째 계수(0행0열)를 DC 계수라고 하며 나머지 계수를 AC 계수라고 한다.\n",
    "- JPEG의 DCT 계수를 건드리는 대부분의 스테가노그라피 도구들이 AC 계수를 대상으로 하기 때문에 DC 계수를 제외한 AC 계수의 개수를 구할 필요가 있다.\n",
    "- `jpegio`에서는 `count_nnz_ac`라는 멤버함수를 제공한다. `count_nnz_ac`는 모든 DCT 계수 블록에서, 0이 아닌 AC 계수의 개수를 알려준다. 즉, DC 계수를 제외하고 나머지 계수들 중에서 0이 아닌 계수의 개수를 구한다."
   ]
  },
  {
   "cell_type": "code",
   "execution_count": 21,
   "metadata": {},
   "outputs": [
    {
     "data": {
      "text/plain": [
       "476659"
      ]
     },
     "execution_count": 21,
     "metadata": {},
     "output_type": "execute_result"
    }
   ],
   "source": [
    "jpeg.count_nnz_ac()"
   ]
  },
  {
   "cell_type": "markdown",
   "metadata": {},
   "source": [
    "- 만약에 각 채널별로 0이 아닌 AC 계수의 개수를 구하고 싶다면 아래 코드를 이용하면 된다."
   ]
  },
  {
   "cell_type": "code",
   "execution_count": 22,
   "metadata": {},
   "outputs": [
    {
     "name": "stdout",
     "output_type": "stream",
     "text": [
      "[Channel #1] Number of non-zero DCT AC coefficients: 327921\n",
      "[Channel #2] Number of non-zero DCT AC coefficients: 76925\n",
      "[Channel #3] Number of non-zero DCT AC coefficients: 71813\n"
     ]
    }
   ],
   "source": [
    "import numpy as np\n",
    "\n",
    "for i in range(jpeg.num_components):\n",
    "    coef = jpeg.coef_arrays[i]\n",
    "    nnz_total = np.count_nonzero(coef)  # 모든 DCT 계수 중 0이 아닌 계수의 개수\n",
    "    nnz_dc = np.count_nonzero(coef[::8, ::8])  # 0이 아닌 DC 계수의 개수\n",
    "    print(\n",
    "        \"[Channel #%d] Number of non-zero DCT AC coefficients: %d\"\n",
    "        % (i + 1, nnz_total - nnz_dc)\n",
    "    )"
   ]
  },
  {
   "cell_type": "markdown",
   "metadata": {},
   "source": [
    "#### Zig-Zag 스캐닝을 통해 DCT 계수를 1차원 배열로 읽어오기\n",
    "- 필요에 따라 zig-zag 스캐닝 방식으로 읽어들인 DCT 계수의 1차원 배열이 필요할 수 있다.\n",
    "- 파이썬에서 블록 단위로 zig-zag 스캐닝 처리를 하게되면 성능이 다소 저하될 수 있다.\n",
    "- `jpegio`에서는 `DecompressedJpeg`의 서브클래스인 `ZigzagDct1d` 클래스를 제공한다.\n",
    "- JPEG을 `ZigzagDct1d` 개체로 읽어오기 위해서 플래그(flag)를 지정해주어야 한다."
   ]
  },
  {
   "cell_type": "code",
   "execution_count": 23,
   "metadata": {},
   "outputs": [],
   "source": [
    "# 참고로, DecompressedJpeg은 jpegio.DECOMPRESSED로 지정돼 있다.\n",
    "jpeg_zz = jio.read(fpath, jio.ZIGZAG_DCT_1D)"
   ]
  },
  {
   "cell_type": "code",
   "execution_count": 24,
   "metadata": {},
   "outputs": [
    {
     "data": {
      "text/plain": [
       "jpegio.zigzagdctjpeg.ZigzagDct1d"
      ]
     },
     "execution_count": 24,
     "metadata": {},
     "output_type": "execute_result"
    }
   ],
   "source": [
    "type(jpeg_zz)"
   ]
  },
  {
   "cell_type": "code",
   "execution_count": 25,
   "metadata": {},
   "outputs": [
    {
     "data": {
      "text/plain": [
       "(63, 95, 64)"
      ]
     },
     "execution_count": 25,
     "metadata": {},
     "output_type": "execute_result"
    }
   ],
   "source": [
    "coef = jpeg_zz.coef_arrays[0]\n",
    "coef.shape"
   ]
  },
  {
   "cell_type": "markdown",
   "metadata": {},
   "source": [
    "- DCT 계수 배열의 마지막 차원의 크기가 64(8x8배열의 2차원이 아닌 1차원 배열 크기)인 것을 알 수 있다.\n",
    "- 다음은 파이썬 코드와 zig-zag 스캐닝 성능을 비교한 결과이다."
   ]
  },
  {
   "cell_type": "code",
   "execution_count": 26,
   "metadata": {},
   "outputs": [
    {
     "name": "stdout",
     "output_type": "stream",
     "text": [
      "[File: arborgreens01.jpg]\n",
      "[Time] C-optimized: 0.008000, Naive Python: 0.441206\n",
      "\n",
      "[File: arborgreens02.jpg]\n",
      "[Time] C-optimized: 0.010014, Naive Python: 0.406220\n",
      "\n",
      "[File: arborgreens03.jpg]\n",
      "[Time] C-optimized: 0.012001, Naive Python: 0.442000\n",
      "\n",
      "[File: arborgreens04.jpg]\n",
      "[Time] C-optimized: 0.009000, Naive Python: 0.423001\n",
      "\n",
      "[File: arborgreens05.jpg]\n",
      "[Time] C-optimized: 0.009999, Naive Python: 0.453000\n",
      "\n",
      "[File: arborgreens06.jpg]\n",
      "[Time] C-optimized: 0.011000, Naive Python: 0.484000\n",
      "\n",
      "[File: arborgreens07.jpg]\n",
      "[Time] C-optimized: 0.009002, Naive Python: 0.483999\n",
      "\n",
      "[File: arborgreens08.jpg]\n",
      "[Time] C-optimized: 0.010000, Naive Python: 0.477998\n",
      "\n",
      "[File: arborgreens09.jpg]\n",
      "[Time] C-optimized: 0.010000, Naive Python: 0.483999\n",
      "\n",
      "[File: arborgreens10.jpg]\n",
      "[Time] C-optimized: 0.009001, Naive Python: 0.490000\n",
      "\n",
      "[File: cherries01.jpg]\n",
      "[Time] C-optimized: 0.008000, Naive Python: 0.468999\n",
      "\n",
      "[File: cherries02.jpg]\n",
      "[Time] C-optimized: 0.011000, Naive Python: 0.476000\n",
      "\n",
      "[File: cherries03.jpg]\n",
      "[Time] C-optimized: 0.010000, Naive Python: 0.466415\n",
      "\n",
      "[File: cherries04.jpg]\n",
      "[Time] C-optimized: 0.010000, Naive Python: 0.436000\n",
      "\n",
      "[File: cherries05.jpg]\n",
      "[Time] C-optimized: 0.010000, Naive Python: 0.418001\n",
      "\n",
      "[File: cherries06.jpg]\n",
      "[Time] C-optimized: 0.010999, Naive Python: 0.453000\n",
      "\n",
      "[File: cherries07.jpg]\n",
      "[Time] C-optimized: 0.010002, Naive Python: 0.433998\n",
      "\n",
      "[File: cherries08.jpg]\n",
      "[Time] C-optimized: 0.009000, Naive Python: 0.436000\n",
      "\n",
      "[File: cherries09.jpg]\n",
      "[Time] C-optimized: 0.009000, Naive Python: 0.429001\n",
      "\n",
      "[File: cherries10.jpg]\n",
      "[Time] C-optimized: 0.008991, Naive Python: 0.460000\n",
      "\n",
      "[File: football01.jpg]\n",
      "[Time] C-optimized: 0.010000, Naive Python: 0.432000\n",
      "\n",
      "[File: football02.jpg]\n",
      "[Time] C-optimized: 0.008999, Naive Python: 0.438001\n",
      "\n",
      "[File: football03.jpg]\n",
      "[Time] C-optimized: 0.009000, Naive Python: 0.428000\n",
      "\n",
      "[File: football04.jpg]\n",
      "[Time] C-optimized: 0.009000, Naive Python: 0.420000\n",
      "\n",
      "[File: football05.jpg]\n",
      "[Time] C-optimized: 0.010000, Naive Python: 0.451000\n",
      "\n",
      "[File: football06.jpg]\n",
      "[Time] C-optimized: 0.010000, Naive Python: 0.460000\n",
      "\n",
      "[File: football07.jpg]\n",
      "[Time] C-optimized: 0.011000, Naive Python: 0.434000\n",
      "\n",
      "[File: football08.jpg]\n",
      "[Time] C-optimized: 0.010000, Naive Python: 0.416000\n",
      "\n",
      "[File: football09.jpg]\n",
      "[Time] C-optimized: 0.010000, Naive Python: 0.442000\n",
      "\n",
      "[File: football10.jpg]\n",
      "[Time] C-optimized: 0.010000, Naive Python: 0.482999\n",
      "\n",
      "[File: greenlake01.jpg]\n",
      "[Time] C-optimized: 0.009000, Naive Python: 0.484000\n",
      "\n",
      "[File: greenlake02.jpg]\n",
      "[Time] C-optimized: 0.010000, Naive Python: 0.465000\n",
      "\n",
      "[File: greenlake03.jpg]\n",
      "[Time] C-optimized: 0.009000, Naive Python: 0.487000\n",
      "\n",
      "[File: greenlake04.jpg]\n",
      "[Time] C-optimized: 0.008000, Naive Python: 0.476999\n",
      "\n",
      "[File: greenlake05.jpg]\n",
      "[Time] C-optimized: 0.010000, Naive Python: 0.493000\n",
      "\n",
      "[File: greenlake06.jpg]\n",
      "[Time] C-optimized: 0.009000, Naive Python: 0.479001\n",
      "\n",
      "[File: greenlake07.jpg]\n",
      "[Time] C-optimized: 0.009000, Naive Python: 0.469999\n",
      "\n",
      "[File: greenlake08.jpg]\n",
      "[Time] C-optimized: 0.009001, Naive Python: 0.480999\n",
      "\n",
      "[File: greenlake09.jpg]\n",
      "[Time] C-optimized: 0.009000, Naive Python: 0.482000\n",
      "\n",
      "[File: greenlake10.jpg]\n",
      "[Time] C-optimized: 0.011000, Naive Python: 0.488000\n",
      "\n",
      "[File: test01.jpg]\n",
      "[Time] C-optimized: 0.014000, Naive Python: 0.801999\n",
      "\n",
      "[File: test02.jpg]\n",
      "[Time] C-optimized: 0.027008, Naive Python: 2.598993\n",
      "\n",
      "[File: test03.jpg]\n",
      "[Time] C-optimized: 0.011000, Naive Python: 1.604000\n",
      "\n",
      "[File: test04.jpg]\n",
      "[Time] C-optimized: 0.007000, Naive Python: 0.652999\n",
      "\n",
      "[File: test05.jpg]\n",
      "[Time] C-optimized: 0.008001, Naive Python: 1.138000\n",
      "\n",
      "[File: test06.jpg]\n",
      "[Time] C-optimized: 0.045999, Naive Python: 2.634001\n",
      "\n",
      "[File: test07.jpg]\n",
      "[Time] C-optimized: 0.049999, Naive Python: 2.599001\n",
      "\n",
      "[File: test08.jpg]\n",
      "[Time] C-optimized: 0.047000, Naive Python: 2.514000\n",
      "\n",
      "[File: test09.jpg]\n",
      "[Time] C-optimized: 0.048000, Naive Python: 2.492000\n",
      "\n",
      "[File: test10.jpg]\n",
      "[Time] C-optimized: 0.046000, Naive Python: 2.609999\n",
      "\n"
     ]
    }
   ],
   "source": [
    "import os\n",
    "import glob\n",
    "import time\n",
    "\n",
    "BS = 8  # Size of the DCT square block width\n",
    "\n",
    "list_fpaths = []\n",
    "\n",
    "for fpath in glob.glob(os.path.join(\"../tests/images\", \"*.jpg\")):\n",
    "    list_fpaths.append(fpath)\n",
    "\n",
    "for fpath in list_fpaths:\n",
    "    # Read DCT with ZigzagDct1d\n",
    "    time_beg_zz = time.time()\n",
    "    jpeg_zz = jio.read(fpath, jio.ZIGZAG_DCT_1D)\n",
    "    list_coef_zz = []\n",
    "    for c in range(jpeg_zz.num_components):\n",
    "        nrows_blk, ncols_blk = jpeg_zz.get_coef_block_array_shape(c)\n",
    "\n",
    "        arr_zz = jpeg_zz.coef_arrays[c].reshape(nrows_blk * ncols_blk, BS * BS)\n",
    "        list_coef_zz.append(arr_zz)\n",
    "    # end of for\n",
    "    time_elapsed_zz = time.time() - time_beg_zz\n",
    "\n",
    "    # Read DCT with DecompressedJpeg\n",
    "    time_beg_de = time.time()\n",
    "    jpeg_de = jio.read(fpath, jio.DECOMPRESSED)\n",
    "    list_coef_de = []\n",
    "    for c in range(jpeg_de.num_components):\n",
    "        arr_de = jpeg_de.coef_arrays[c]\n",
    "        nrows_blk, ncols_blk = jpeg_de.get_coef_block_array_shape(c)\n",
    "        arr_de = arr_de.reshape(nrows_blk, BS, ncols_blk, BS)\n",
    "        arr_de = arr_de.transpose(0, 2, 1, 3)\n",
    "        arr_de = arr_de.reshape(nrows_blk, ncols_blk, BS, BS)\n",
    "\n",
    "        zz_de = np.zeros((nrows_blk, ncols_blk, BS * BS), dtype=np.int16)\n",
    "\n",
    "        # Zigzag scanning over DCT blocks.\n",
    "        for i in range(nrows_blk):\n",
    "            for j in range(ncols_blk):\n",
    "                zz_de[i, j][0] = arr_de[i, j][0, 0]\n",
    "\n",
    "                zz_de[i, j][1] = arr_de[i, j][0, 1]\n",
    "                zz_de[i, j][2] = arr_de[i, j][1, 0]\n",
    "\n",
    "                zz_de[i, j][3] = arr_de[i, j][2, 0]\n",
    "                zz_de[i, j][4] = arr_de[i, j][1, 1]\n",
    "                zz_de[i, j][5] = arr_de[i, j][0, 2]\n",
    "\n",
    "                zz_de[i, j][6] = arr_de[i, j][0, 3]\n",
    "                zz_de[i, j][7] = arr_de[i, j][1, 2]\n",
    "                zz_de[i, j][8] = arr_de[i, j][2, 1]\n",
    "                zz_de[i, j][9] = arr_de[i, j][3, 0]\n",
    "\n",
    "                zz_de[i, j][10] = arr_de[i, j][4, 0]\n",
    "                zz_de[i, j][11] = arr_de[i, j][3, 1]\n",
    "                zz_de[i, j][12] = arr_de[i, j][2, 2]\n",
    "                zz_de[i, j][13] = arr_de[i, j][1, 3]\n",
    "                zz_de[i, j][14] = arr_de[i, j][0, 4]\n",
    "\n",
    "                zz_de[i, j][15] = arr_de[i, j][0, 5]\n",
    "                zz_de[i, j][16] = arr_de[i, j][1, 4]\n",
    "                zz_de[i, j][17] = arr_de[i, j][2, 3]\n",
    "                zz_de[i, j][18] = arr_de[i, j][3, 2]\n",
    "                zz_de[i, j][19] = arr_de[i, j][4, 1]\n",
    "                zz_de[i, j][20] = arr_de[i, j][5, 0]\n",
    "\n",
    "                zz_de[i, j][21] = arr_de[i, j][6, 0]\n",
    "                zz_de[i, j][22] = arr_de[i, j][5, 1]\n",
    "                zz_de[i, j][23] = arr_de[i, j][4, 2]\n",
    "                zz_de[i, j][24] = arr_de[i, j][3, 3]\n",
    "                zz_de[i, j][25] = arr_de[i, j][2, 4]\n",
    "                zz_de[i, j][26] = arr_de[i, j][1, 5]\n",
    "                zz_de[i, j][27] = arr_de[i, j][0, 6]\n",
    "\n",
    "                zz_de[i, j][28] = arr_de[i, j][0, 7]\n",
    "                zz_de[i, j][29] = arr_de[i, j][1, 6]\n",
    "                zz_de[i, j][30] = arr_de[i, j][2, 5]\n",
    "                zz_de[i, j][31] = arr_de[i, j][3, 4]\n",
    "                zz_de[i, j][32] = arr_de[i, j][4, 3]\n",
    "                zz_de[i, j][33] = arr_de[i, j][5, 2]\n",
    "                zz_de[i, j][34] = arr_de[i, j][6, 1]\n",
    "                zz_de[i, j][35] = arr_de[i, j][7, 0]\n",
    "\n",
    "                zz_de[i, j][36] = arr_de[i, j][7, 1]\n",
    "                zz_de[i, j][37] = arr_de[i, j][6, 2]\n",
    "                zz_de[i, j][38] = arr_de[i, j][5, 3]\n",
    "                zz_de[i, j][39] = arr_de[i, j][4, 4]\n",
    "                zz_de[i, j][40] = arr_de[i, j][3, 5]\n",
    "                zz_de[i, j][41] = arr_de[i, j][2, 6]\n",
    "                zz_de[i, j][42] = arr_de[i, j][1, 7]\n",
    "\n",
    "                zz_de[i, j][43] = arr_de[i, j][2, 7]\n",
    "                zz_de[i, j][44] = arr_de[i, j][3, 6]\n",
    "                zz_de[i, j][45] = arr_de[i, j][4, 5]\n",
    "                zz_de[i, j][46] = arr_de[i, j][5, 4]\n",
    "                zz_de[i, j][47] = arr_de[i, j][6, 3]\n",
    "                zz_de[i, j][48] = arr_de[i, j][7, 2]\n",
    "\n",
    "                zz_de[i, j][49] = arr_de[i, j][7, 3]\n",
    "                zz_de[i, j][50] = arr_de[i, j][6, 4]\n",
    "                zz_de[i, j][51] = arr_de[i, j][5, 5]\n",
    "                zz_de[i, j][52] = arr_de[i, j][4, 6]\n",
    "                zz_de[i, j][53] = arr_de[i, j][3, 7]\n",
    "\n",
    "                zz_de[i, j][54] = arr_de[i, j][4, 7]\n",
    "                zz_de[i, j][55] = arr_de[i, j][5, 6]\n",
    "                zz_de[i, j][56] = arr_de[i, j][6, 5]\n",
    "                zz_de[i, j][57] = arr_de[i, j][7, 4]\n",
    "\n",
    "                zz_de[i, j][58] = arr_de[i, j][7, 5]\n",
    "                zz_de[i, j][59] = arr_de[i, j][6, 6]\n",
    "                zz_de[i, j][60] = arr_de[i, j][5, 7]\n",
    "\n",
    "                zz_de[i, j][61] = arr_de[i, j][6, 7]\n",
    "                zz_de[i, j][62] = arr_de[i, j][7, 6]\n",
    "\n",
    "                zz_de[i, j][63] = arr_de[i, j][7, 7]\n",
    "            # end of for (j)\n",
    "        # end of for (i)\n",
    "        list_coef_de.append(zz_de)\n",
    "    # end of for (c)\n",
    "    time_elapsed_de = time.time() - time_beg_de\n",
    "    print(\"[File: %s]\" % (os.path.basename(fpath)))\n",
    "    print(\n",
    "        \"[Time] C-optimized: %f, Naive Python: %f\" % (time_elapsed_zz, time_elapsed_de),\n",
    "        end=\"\\n\\n\",\n",
    "    )"
   ]
  }
 ],
 "metadata": {
  "kernelspec": {
   "display_name": "Python 3",
   "language": "python",
   "name": "python3"
  },
  "language_info": {
   "codemirror_mode": {
    "name": "ipython",
    "version": 3
   },
   "file_extension": ".py",
   "mimetype": "text/x-python",
   "name": "python",
   "nbconvert_exporter": "python",
   "pygments_lexer": "ipython3",
   "version": "3.7.1"
  }
 },
 "nbformat": 4,
 "nbformat_minor": 2
}
